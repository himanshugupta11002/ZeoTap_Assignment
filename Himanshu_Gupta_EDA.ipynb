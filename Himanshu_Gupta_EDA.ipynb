{
  "nbformat": 4,
  "nbformat_minor": 0,
  "metadata": {
    "colab": {
      "private_outputs": true,
      "provenance": []
    },
    "kernelspec": {
      "name": "python3",
      "display_name": "Python 3"
    },
    "language_info": {
      "name": "python"
    }
  },
  "cells": [
    {
      "cell_type": "code",
      "execution_count": null,
      "metadata": {
        "id": "nkfRVpPP-A2m"
      },
      "outputs": [],
      "source": [
        "import pandas as pd\n",
        "import matplotlib.pyplot as plt\n",
        "import seaborn as sns"
      ]
    },
    {
      "cell_type": "code",
      "source": [
        "customers = pd.read_csv(\"Customers.csv\")\n",
        "print(customers.head())"
      ],
      "metadata": {
        "id": "PNiS7F5g_Wij"
      },
      "execution_count": null,
      "outputs": []
    },
    {
      "cell_type": "code",
      "source": [
        "products = pd.read_csv(\"Products.csv\")\n",
        "\n",
        "print(products.head())"
      ],
      "metadata": {
        "id": "SUfa3yxy_4hj"
      },
      "execution_count": null,
      "outputs": []
    },
    {
      "cell_type": "code",
      "source": [
        "transactions = pd.read_csv(\"Transactions.csv\")\n",
        "\n",
        "print(transactions.head())"
      ],
      "metadata": {
        "id": "VMhpmlNxABfy"
      },
      "execution_count": null,
      "outputs": []
    },
    {
      "cell_type": "code",
      "source": [
        "customers['SignupDate'] = pd.to_datetime(customers['SignupDate'])\n",
        "transactions['TransactionDate'] = pd.to_datetime(transactions['TransactionDate'])"
      ],
      "metadata": {
        "id": "PK-WGxOlAON3"
      },
      "execution_count": null,
      "outputs": []
    },
    {
      "cell_type": "code",
      "source": [
        "print(customers.isnull().sum())\n",
        "print(products.isnull().sum())\n",
        "print(transactions.isnull().sum())"
      ],
      "metadata": {
        "id": "byTnZogEAXSi"
      },
      "execution_count": null,
      "outputs": []
    },
    {
      "cell_type": "code",
      "source": [
        "print(customers.duplicated().sum())\n",
        "print(products.duplicated().sum())\n",
        "print(transactions.duplicated().sum())"
      ],
      "metadata": {
        "id": "0M6IBTalAlzh"
      },
      "execution_count": null,
      "outputs": []
    },
    {
      "cell_type": "code",
      "source": [
        "merged_data = transactions.merge(customers, on=\"CustomerID\").merge(products, on=\"ProductID\")\n",
        "print(merged_data.head())"
      ],
      "metadata": {
        "id": "FkEaN7K3Ahkg"
      },
      "execution_count": null,
      "outputs": []
    },
    {
      "cell_type": "markdown",
      "source": [
        "**Customer Growth by Region**"
      ],
      "metadata": {
        "id": "02MFpB7tQoze"
      }
    },
    {
      "cell_type": "code",
      "source": [
        "# Group by Signup Year and Region\n",
        "customers['SignupYear'] = customers['SignupDate'].dt.year\n",
        "signup_trends = customers.groupby(['SignupYear', 'Region']).size().reset_index(name='CustomerCount')\n",
        "\n",
        "# Plot trends\n",
        "plt.figure(figsize=(10, 6))\n",
        "sns.lineplot(data=signup_trends, x='SignupYear', y='CustomerCount', hue='Region', marker='o')\n",
        "plt.title('Customer Signup Trends by Region')\n",
        "plt.xlabel('Year')\n",
        "plt.ylabel('Number of Customers')\n",
        "plt.legend(title='Region')\n",
        "plt.show()\n"
      ],
      "metadata": {
        "id": "oBxs8QNRA3se"
      },
      "execution_count": null,
      "outputs": []
    },
    {
      "cell_type": "markdown",
      "source": [
        "**Top Revenue-Generating Products**"
      ],
      "metadata": {
        "id": "JBCxYfMvQy42"
      }
    },
    {
      "cell_type": "code",
      "source": [
        "# Total revenue per product\n",
        "product_revenue = merged_data.groupby('ProductName')['TotalValue'].sum().sort_values(ascending=False).head(10)\n",
        "\n",
        "# Plot top 10 products by revenue\n",
        "plt.figure(figsize=(10, 6))\n",
        "product_revenue.plot(kind='bar', color='skyblue')\n",
        "plt.title('Top 10 Revenue-Generating Products')\n",
        "plt.xlabel('Product Name')\n",
        "plt.ylabel('Total Revenue (USD)')\n",
        "plt.xticks(rotation=45)\n",
        "plt.show()"
      ],
      "metadata": {
        "id": "1FkQrHapBCpC"
      },
      "execution_count": null,
      "outputs": []
    },
    {
      "cell_type": "markdown",
      "source": [
        "**Seasonal Trends**"
      ],
      "metadata": {
        "id": "caBn8-aKQ4Br"
      }
    },
    {
      "cell_type": "code",
      "source": [
        "# Extract month from transaction date\n",
        "merged_data['TransactionMonth'] = merged_data['TransactionDate'].dt.month\n",
        "\n",
        "# Monthly revenue\n",
        "monthly_revenue = merged_data.groupby('TransactionMonth')['TotalValue'].sum().reset_index()\n",
        "\n",
        "# Plot monthly revenue\n",
        "plt.figure(figsize=(10, 6))\n",
        "sns.barplot(data=monthly_revenue, x='TransactionMonth', y='TotalValue', hue='TransactionMonth', palette='viridis', legend = False)\n",
        "plt.title('Monthly Revenue Trends')\n",
        "plt.xlabel('Month')\n",
        "plt.ylabel('Total Revenue (USD)')\n",
        "plt.show()"
      ],
      "metadata": {
        "id": "8iTTBBWbBH7u"
      },
      "execution_count": null,
      "outputs": []
    },
    {
      "cell_type": "markdown",
      "source": [
        "**High-Value Customers**"
      ],
      "metadata": {
        "id": "r1MLEl6zQ7sO"
      }
    },
    {
      "cell_type": "code",
      "source": [
        "# Total revenue per customer\n",
        "customer_revenue = merged_data.groupby('CustomerID')['TotalValue'].sum().sort_values(ascending=False)\n",
        "\n",
        "# Calculate cumulative contribution\n",
        "customer_revenue_cumsum = customer_revenue.cumsum() / customer_revenue.sum()\n",
        "\n",
        "# Plot the Pareto distribution\n",
        "plt.figure(figsize=(10, 6))\n",
        "customer_revenue_cumsum.plot(drawstyle='steps-post', color='purple')\n",
        "plt.axhline(y=0.8, color='r', linestyle='--', label='80% of Revenue')\n",
        "plt.title('Cumulative Revenue Contribution by Customers')\n",
        "plt.xlabel('Customer Rank')\n",
        "plt.ylabel('Cumulative Revenue Contribution')\n",
        "plt.legend()\n",
        "plt.show()"
      ],
      "metadata": {
        "id": "D32K9SJDBZPA"
      },
      "execution_count": null,
      "outputs": []
    },
    {
      "cell_type": "markdown",
      "source": [
        "**Product Pricing Impact**"
      ],
      "metadata": {
        "id": "Htc48RR7RIXZ"
      }
    },
    {
      "cell_type": "code",
      "source": [
        "# Group products by price ranges\n",
        "merged_data.rename(columns={\"Price_y\": \"Price\"}, inplace=True)\n",
        "merged_data['PriceRange'] = pd.cut(merged_data['Price'], bins=[0, 20, 50, 100, 200], labels=['0-20', '20-50', '50-100', '100-200'])\n",
        "price_sales = merged_data.groupby('PriceRange', observed=False)['Quantity'].sum().reset_index()\n",
        "\n",
        "# Plot price range vs sales volume\n",
        "plt.figure(figsize=(10, 6))\n",
        "sns.barplot(data=price_sales, x='PriceRange', y='Quantity', hue='PriceRange', dodge=False, palette='coolwarm', legend=False)\n",
        "plt.title('Sales Volume by Price Range')\n",
        "plt.xlabel('Price Range (USD)')\n",
        "plt.ylabel('Total Quantity Sold')\n",
        "plt.show()"
      ],
      "metadata": {
        "id": "OvwKjgEbBeSo"
      },
      "execution_count": null,
      "outputs": []
    }
  ]
}