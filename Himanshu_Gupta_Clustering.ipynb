{
  "nbformat": 4,
  "nbformat_minor": 0,
  "metadata": {
    "colab": {
      "private_outputs": true,
      "provenance": []
    },
    "kernelspec": {
      "name": "python3",
      "display_name": "Python 3"
    },
    "language_info": {
      "name": "python"
    }
  },
  "cells": [
    {
      "cell_type": "code",
      "execution_count": null,
      "metadata": {
        "id": "DbcvJv0EryHd"
      },
      "outputs": [],
      "source": [
        "# Importing necessary libraries\n",
        "import pandas as pd\n",
        "import numpy as np\n",
        "from sklearn.preprocessing import StandardScaler\n",
        "from sklearn.cluster import KMeans\n",
        "from sklearn.metrics import davies_bouldin_score, silhouette_score\n",
        "import matplotlib.pyplot as plt\n",
        "import seaborn as sns\n",
        "from sklearn.decomposition import PCA"
      ]
    },
    {
      "cell_type": "code",
      "source": [
        "# Step 1: Load the data\n",
        "customers = pd.read_csv(\"Customers.csv\")\n",
        "transactions = pd.read_csv(\"Transactions.csv\")"
      ],
      "metadata": {
        "id": "cvm7vfo9sB2b"
      },
      "execution_count": null,
      "outputs": []
    },
    {
      "cell_type": "code",
      "source": [
        "customers.head(5)"
      ],
      "metadata": {
        "id": "DbUWS7lMsnTG"
      },
      "execution_count": null,
      "outputs": []
    },
    {
      "cell_type": "code",
      "source": [
        "transactions.head(5)"
      ],
      "metadata": {
        "id": "1iubGQpPssGg"
      },
      "execution_count": null,
      "outputs": []
    },
    {
      "cell_type": "code",
      "source": [
        "# Step 2: Data Preprocessing\n",
        "# Aggregating transaction data\n",
        "customer_transaction_summary = transactions.groupby('CustomerID').agg(\n",
        "    TotalValue=('TotalValue', 'sum'),\n",
        "    AverageTransactionValue=('TotalValue', 'mean'),\n",
        "    TotalQuantity=('Quantity', 'sum'),\n",
        "    LastTransactionDate=('TransactionDate', 'max')\n",
        ").reset_index()"
      ],
      "metadata": {
        "id": "gN-UDKB6sv2A"
      },
      "execution_count": null,
      "outputs": []
    },
    {
      "cell_type": "code",
      "source": [
        "# Merge with customer data\n",
        "customers['SignupDate'] = pd.to_datetime(customers['SignupDate'])\n",
        "customer_transaction_summary['LastTransactionDate'] = pd.to_datetime(customer_transaction_summary['LastTransactionDate'])\n",
        "merged_data = pd.merge(customers, customer_transaction_summary, on='CustomerID', how='inner')\n"
      ],
      "metadata": {
        "id": "-weNVePnvO9G"
      },
      "execution_count": null,
      "outputs": []
    },
    {
      "cell_type": "code",
      "source": [
        "merged_data.head(5)"
      ],
      "metadata": {
        "id": "UEK4Ou14vVfW"
      },
      "execution_count": null,
      "outputs": []
    },
    {
      "cell_type": "code",
      "source": [
        "# Add derived features\n",
        "merged_data['CustomerTenureDays'] = (merged_data['LastTransactionDate'] - merged_data['SignupDate']).dt.days\n"
      ],
      "metadata": {
        "id": "UKAkrJLwvaQn"
      },
      "execution_count": null,
      "outputs": []
    },
    {
      "cell_type": "code",
      "source": [
        "# Select features for clustering\n",
        "features = merged_data[['TotalValue', 'AverageTransactionValue', 'TotalQuantity', 'CustomerTenureDays']]"
      ],
      "metadata": {
        "id": "xG0aEp_Gvd0o"
      },
      "execution_count": null,
      "outputs": []
    },
    {
      "cell_type": "code",
      "source": [
        "print(features)"
      ],
      "metadata": {
        "id": "sHn5GeBpvhvH"
      },
      "execution_count": null,
      "outputs": []
    },
    {
      "cell_type": "code",
      "source": [
        "# Step 3: Feature Scaling\n",
        "scaler = StandardScaler()\n",
        "scaled_features = scaler.fit_transform(features)\n"
      ],
      "metadata": {
        "id": "4H_420YAvk72"
      },
      "execution_count": null,
      "outputs": []
    },
    {
      "cell_type": "code",
      "source": [
        "# Step 4: K-Means Clustering\n",
        "# Try clustering with 2 to 10 clusters and calculate DB Index for each\n",
        "db_scores = []\n",
        "silhouette_scores = []\n",
        "for n_clusters in range(2, 11):\n",
        "    kmeans = KMeans(n_clusters=n_clusters, random_state=42)\n",
        "    cluster_labels = kmeans.fit_predict(scaled_features)\n",
        "    db_score = davies_bouldin_score(scaled_features, cluster_labels)\n",
        "    silhouette_avg = silhouette_score(scaled_features, cluster_labels)\n",
        "    db_scores.append(db_score)\n",
        "    silhouette_scores.append(silhouette_avg)\n",
        "\n",
        "# Optimal number of clusters based on DB Index\n",
        "optimal_clusters = np.argmin(db_scores) + 2\n",
        "print(f\"Optimal number of clusters based on DB Index: {optimal_clusters}\")"
      ],
      "metadata": {
        "id": "IMX9AKFUwiNb"
      },
      "execution_count": null,
      "outputs": []
    },
    {
      "cell_type": "code",
      "source": [
        "# Final K-Means model\n",
        "kmeans = KMeans(n_clusters=optimal_clusters, random_state=42)\n",
        "merged_data['Cluster'] = kmeans.fit_predict(scaled_features)\n"
      ],
      "metadata": {
        "id": "8QbMgxOzw1A5"
      },
      "execution_count": null,
      "outputs": []
    },
    {
      "cell_type": "code",
      "source": [
        "# Step 5: Visualizations\n",
        "# Plot DB Index for different numbers of clusters\n",
        "plt.figure(figsize=(10, 6))\n",
        "plt.plot(range(2, 11), db_scores, marker='o', label='DB Index')\n",
        "plt.xlabel('Number of Clusters')\n",
        "plt.ylabel('Davies-Bouldin Index')\n",
        "plt.title('DB Index vs. Number of Clusters')\n",
        "plt.legend()\n",
        "plt.grid(True)\n",
        "plt.show()\n"
      ],
      "metadata": {
        "id": "khNFD_3Lw7MH"
      },
      "execution_count": null,
      "outputs": []
    },
    {
      "cell_type": "code",
      "source": [
        "# Plot Silhouette Score for different numbers of clusters\n",
        "plt.figure(figsize=(10, 6))\n",
        "plt.plot(range(2, 11), silhouette_scores, marker='o', label='Silhouette Score')\n",
        "plt.xlabel('Number of Clusters')\n",
        "plt.ylabel('Silhouette Score')\n",
        "plt.title('Silhouette Score vs. Number of Clusters')\n",
        "plt.legend()\n",
        "plt.grid(True)\n",
        "plt.show()\n"
      ],
      "metadata": {
        "id": "-2vcGwyxw8_-"
      },
      "execution_count": null,
      "outputs": []
    },
    {
      "cell_type": "code",
      "source": [
        "# Visualizing clusters using PCA\n",
        "pca = PCA(n_components=2)\n",
        "reduced_features = pca.fit_transform(scaled_features)\n",
        "merged_data['PCA1'] = reduced_features[:, 0]\n",
        "merged_data['PCA2'] = reduced_features[:, 1]\n",
        "\n",
        "plt.figure(figsize=(10, 6))\n",
        "sns.scatterplot(data=merged_data, x='PCA1', y='PCA2', hue='Cluster', palette='Set1', s=100)\n",
        "plt.title('Customer Clusters (PCA Reduced)')\n",
        "plt.xlabel('PCA Component 1')\n",
        "plt.ylabel('PCA Component 2')\n",
        "plt.legend(title='Cluster')\n",
        "plt.grid(True)\n",
        "plt.show()"
      ],
      "metadata": {
        "id": "SIVAZIxixCgl"
      },
      "execution_count": null,
      "outputs": []
    },
    {
      "cell_type": "code",
      "source": [
        "# Step 6: Report Clustering Metrics\n",
        "final_db_score = davies_bouldin_score(scaled_features, merged_data['Cluster'])\n",
        "print(f\"Final Davies-Bouldin Index for {optimal_clusters} clusters: {final_db_score:.4f}\")\n",
        "\n",
        "# Save final clustered data to CSV\n",
        "merged_data.to_csv(\"Customer_Segmentation_Clusters.csv\", index=False)"
      ],
      "metadata": {
        "id": "orxohXDoxFW4"
      },
      "execution_count": null,
      "outputs": []
    }
  ]
}